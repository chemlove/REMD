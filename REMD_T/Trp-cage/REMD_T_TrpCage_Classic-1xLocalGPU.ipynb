{
 "cells": [
  {
   "cell_type": "code",
   "execution_count": 1,
   "metadata": {},
   "outputs": [],
   "source": [
    "import os\n",
    "import sys\n",
    "os.environ['PATH']+=':'+sys.path[1].split('lib')[0]+'bin'\n",
    "sys.path.append('/home/diego/Projects')\n",
    "\n",
    "import tqdm\n",
    "import tempfile\n",
    "import numpy as np\n",
    "import matplotlib.pyplot as plt\n",
    "\n",
    "import simtk.openmm as openmm\n",
    "import simtk.unit as unit\n",
    "import simtk.openmm.app as app\n",
    "from openmmtools import states, mcmc\n",
    "from yank.multistate import ParallelTemperingSampler, MultiStateReporter, ParallelTemperingAnalyzer\n",
    "\n",
    "import TestSystems\n",
    "\n",
    "plt.style.use(\"ggplot\")"
   ]
  },
  {
   "cell_type": "markdown",
   "metadata": {},
   "source": [
    "## Info\n",
    "\n",
    "### Sources:\n",
    "This script has been prepared taking https://github.com/choderalab/gibbs/blob/master/openmm/python/parallel-tempering.py and https://github.com/choderalab/gibbs/blob/master/openmm/python/parallel-tempering.py from J. Chodera's lab.\n",
    "\n",
    "https://github.com/choderalab/yank/blob/master/Yank/multistate/replicaexchange.py"
   ]
  },
  {
   "cell_type": "markdown",
   "metadata": {},
   "source": [
    "# Setting up de mpi comm world and platforms to be used"
   ]
  },
  {
   "cell_type": "code",
   "execution_count": 2,
   "metadata": {},
   "outputs": [],
   "source": [
    "# List of available platforms printed out to choose\n",
    "list_platforms=False\n",
    "# printing out platform names\n",
    "if list_platforms:\n",
    "    for ii in range(openmm.Platform.getNumPlatforms()):\n",
    "        print(openmm.Platform.getPlatform(ii).getName())"
   ]
  },
  {
   "cell_type": "code",
   "execution_count": 3,
   "metadata": {},
   "outputs": [],
   "source": [
    "platform_name = 'CUDA'\n",
    "platform = openmm.Platform.getPlatformByName(platform_name)"
   ]
  },
  {
   "cell_type": "code",
   "execution_count": 4,
   "metadata": {},
   "outputs": [],
   "source": [
    "from mpi4py import MPI # MPI wrapper\n",
    "hostname = os.uname()[1]\n",
    "ngpus = 1\n",
    "comm = MPI.COMM_WORLD\n",
    "deviceid = comm.rank % ngpus"
   ]
  },
  {
   "cell_type": "code",
   "execution_count": 5,
   "metadata": {},
   "outputs": [],
   "source": [
    "platform.setPropertyDefaultValue('CudaDeviceIndex', '%d' % deviceid)"
   ]
  },
  {
   "cell_type": "code",
   "execution_count": 6,
   "metadata": {},
   "outputs": [
    {
     "name": "stdout",
     "output_type": "stream",
     "text": [
      "node 'ixtlilton' deviceid 0 / 1, MPI rank 0 / 1\n"
     ]
    }
   ],
   "source": [
    "print (\"node '%s' deviceid %d / %d, MPI rank %d / %d\" % (hostname, deviceid, ngpus, comm.rank, comm.size))"
   ]
  },
  {
   "cell_type": "code",
   "execution_count": 7,
   "metadata": {},
   "outputs": [],
   "source": [
    "# seeds must be different in each device\n",
    "seed = np.random.randint(2**32 - comm.size) + comm.rank\n",
    "np.random.seed(seed)"
   ]
  },
  {
   "cell_type": "markdown",
   "metadata": {},
   "source": [
    "# Setting up the system"
   ]
  },
  {
   "cell_type": "code",
   "execution_count": 8,
   "metadata": {},
   "outputs": [],
   "source": [
    "working_system = TestSystems.TrpCageImplicit()\n",
    "positions = working_system.positions"
   ]
  },
  {
   "cell_type": "markdown",
   "metadata": {},
   "source": [
    "# Setting up the experiment variables"
   ]
  },
  {
   "cell_type": "code",
   "execution_count": 9,
   "metadata": {},
   "outputs": [],
   "source": [
    "experiment_continuation= False\n",
    "minimize = True # minimize\n",
    "equilibrate = True # equilibrate\n",
    "\n",
    "# minimization\n",
    "tolerance = 1.0 * unit.kilocalories_per_mole / unit.nanometer\n",
    "maximum_evaluations = 5000\n",
    "\n",
    "# equilibration\n",
    "collision_rate = 5.0 / unit.picosecond #Langevin\n",
    "timestep_equilibration = 1.0 * unit.femtoseconds\n",
    "nequiliterations = 100\n",
    "nsteps_equilibration = 10000\n",
    "\n",
    "# parallel tempering\n",
    "n_replicas = 6\n",
    "T_min      = 298.0*unit.kelvin\n",
    "T_max      = 600.0*unit.kelvin\n",
    "timestep = 2.0 * unit.femtoseconds # timestep for simulation   \n",
    "nsteps = 50 # number of timesteps per iteration (exchange attempt)\n",
    "niterations = 1000 # number of iterations"
   ]
  },
  {
   "cell_type": "markdown",
   "metadata": {},
   "source": [
    "\n",
    "# Setting up the reporter"
   ]
  },
  {
   "cell_type": "code",
   "execution_count": 10,
   "metadata": {},
   "outputs": [],
   "source": [
    "# Include case experiment continuation\n",
    "storage_path = tempfile.NamedTemporaryFile(delete=False).name + '.nc'\n",
    "reporter = MultiStateReporter(storage_path, checkpoint_interval=10)"
   ]
  },
  {
   "cell_type": "markdown",
   "metadata": {},
   "source": [
    "# Minimization"
   ]
  },
  {
   "cell_type": "code",
   "execution_count": 11,
   "metadata": {},
   "outputs": [
    {
     "name": "stdout",
     "output_type": "stream",
     "text": [
      "Potential Energy before minimization:         -668.575 kcal/mol\n",
      "Potential Energy after minimization:         -718.455 kcal/mol\n"
     ]
    }
   ],
   "source": [
    "if minimize and not experiment_continuation:\n",
    "    # Create integrator and context.\n",
    "    integrator = openmm.VerletIntegrator(timestep)    \n",
    "    context = openmm.Context(working_system.system, integrator, platform)\n",
    "    # Set positions.\n",
    "    context.setPositions(working_system.positions)\n",
    "    init_state = context.getState(getEnergy=True)\n",
    "    # Eval init potential energy\n",
    "    print (\"Potential Energy before minimization: %16.3f kcal/mol\" % ((init_state.getPotentialEnergy() / unit.kilocalories_per_mole)))\n",
    "    # Minimize.        \n",
    "    openmm.LocalEnergyMinimizer.minimize(context, tolerance, maximum_evaluations)\n",
    "    # Store final coordinates and update system positions\n",
    "    minimized_state = context.getState(getPositions=True, getEnergy=True)\n",
    "    positions = minimized_state.getPositions(asNumpy=True)\n",
    "    # Eval final potential energy\n",
    "    print (\"Potential Energy after minimization: %16.3f kcal/mol\" % ((minimized_state.getPotentialEnergy() / unit.kilocalories_per_mole)))\n",
    "    # Clean up.\n",
    "    del context\n",
    "    del integrator\n",
    "    del init_state\n",
    "    del minimized_state"
   ]
  },
  {
   "cell_type": "markdown",
   "metadata": {},
   "source": [
    "# Equilibration"
   ]
  },
  {
   "cell_type": "code",
   "execution_count": 12,
   "metadata": {},
   "outputs": [
    {
     "name": "stderr",
     "output_type": "stream",
     "text": [
      "100%|██████████| 100/100 [00:57<00:00,  1.73it/s]\n"
     ]
    },
    {
     "data": {
      "image/png": "[encoded data removed]",
      "text/plain": [
       "<Figure size 432x288 with 1 Axes>"
      ]
     },
     "metadata": {},
     "output_type": "display_data"
    }
   ],
   "source": [
    "if True and not experiment_continuation:\n",
    "    integrator = openmm.LangevinIntegrator(T_min, collision_rate, timestep_equilibration)    \n",
    "    context = openmm.Context(working_system.system, integrator, platform)\n",
    "    context.setPositions(positions)\n",
    "    equil_energies = np.zeros((nequiliterations),dtype=float)\n",
    "    equil_times    = np.zeros((nequiliterations),dtype=float)\n",
    "    for iteration in tqdm.tqdm(range(nequiliterations)):\n",
    "        integrator.step(nsteps_equilibration)\n",
    "        state = context.getState(getEnergy=True)\n",
    "        equil_energies[iteration] = state.getPotentialEnergy() / unit.kilocalories_per_mole\n",
    "        equil_times[iteration] = state.getTime() / unit.nanosecond\n",
    "    equilibrated_state = context.getState(getPositions=True)\n",
    "    positions = equilibrated_state.getPositions(asNumpy=True)\n",
    "    del context\n",
    "    del integrator\n",
    "    del state\n",
    "    del equilibrated_state\n",
    "    plt.plot(equil_times,equil_energies)\n",
    "    plt.title(\"Equilibration run\")\n",
    "    plt.xlabel(\"Time (nanoseconds)\")\n",
    "    plt.ylabel(\"Potential Energy (kilocal/mol)\")"
   ]
  },
  {
   "cell_type": "markdown",
   "metadata": {},
   "source": [
    "# Parallel Tempering initialization"
   ]
  },
  {
   "cell_type": "code",
   "execution_count": 13,
   "metadata": {},
   "outputs": [],
   "source": [
    "reference_state = states.ThermodynamicState(system=working_system.system, temperature=T_min)"
   ]
  },
  {
   "cell_type": "code",
   "execution_count": 14,
   "metadata": {},
   "outputs": [],
   "source": [
    "move = mcmc.GHMCMove(timestep=timestep, n_steps=nsteps)"
   ]
  },
  {
   "cell_type": "code",
   "execution_count": 15,
   "metadata": {},
   "outputs": [],
   "source": [
    "simulation = ParallelTemperingSampler(mcmc_moves=move, number_of_iterations=niterations)"
   ]
  },
  {
   "cell_type": "code",
   "execution_count": 16,
   "metadata": {},
   "outputs": [
    {
     "name": "stdout",
     "output_type": "stream",
     "text": [
      "Please cite the following:\n",
      "\n",
      "        Friedrichs MS, Eastman P, Vaidyanathan V, Houston M, LeGrand S, Beberg AL, Ensign DL, Bruns CM, and Pande VS. Accelerating molecular dynamic simulations on graphics processing unit. J. Comput. Chem. 30:864, 2009. DOI: 10.1002/jcc.21209\n",
      "        Eastman P and Pande VS. OpenMM: A hardware-independent framework for molecular simulations. Comput. Sci. Eng. 12:34, 2010. DOI: 10.1109/MCSE.2010.27\n",
      "        Eastman P and Pande VS. Efficient nonbonded interactions for molecular dynamics on a graphics processing unit. J. Comput. Chem. 31:1268, 2010. DOI: 10.1002/jcc.21413\n",
      "        Eastman P and Pande VS. Constant constraint matrix approximation: A robust, parallelizable constraint method for molecular simulations. J. Chem. Theor. Comput. 6:434, 2010. DOI: 10.1021/ct900463w\n",
      "        Chodera JD and Shirts MR. Replica exchange and expanded ensemble simulations as Gibbs multistate: Simple improvements for enhanced mixing. J. Chem. Phys., 135:194110, 2011. DOI:10.1063/1.3660669\n",
      "        \n"
     ]
    }
   ],
   "source": [
    "simulation.create(reference_state, states.SamplerState(positions), reporter,\n",
    "                  min_temperature=T_min, max_temperature=T_max, n_temperatures=n_replicas)"
   ]
  },
  {
   "cell_type": "code",
   "execution_count": 17,
   "metadata": {},
   "outputs": [],
   "source": [
    "simulation.platform=platform\n",
    "simulation.comm=comm"
   ]
  },
  {
   "cell_type": "code",
   "execution_count": 18,
   "metadata": {},
   "outputs": [
    {
     "data": {
      "text/plain": [
       "{'replica_mixing_scheme': 'swap-all',\n",
       " 'number_of_iterations': 1000,\n",
       " 'online_analysis_interval': None,\n",
       " 'online_analysis_target_error': 0.2,\n",
       " 'online_analysis_minimum_iterations': 50,\n",
       " 'locality': None}"
      ]
     },
     "execution_count": 18,
     "metadata": {},
     "output_type": "execute_result"
    }
   ],
   "source": [
    "simulation.options"
   ]
  },
  {
   "cell_type": "code",
   "execution_count": 19,
   "metadata": {},
   "outputs": [
    {
     "name": "stdout",
     "output_type": "stream",
     "text": [
      "replica_mixing_scheme swap-all\n",
      "number_of_iterations 1000\n",
      "online_analysis_interval None\n",
      "online_analysis_target_error 0.2\n",
      "online_analysis_minimum_iterations 50\n",
      "locality None\n",
      "number of iterations 1000\n",
      "number of replicas 6\n",
      "number of states 6\n"
     ]
    }
   ],
   "source": [
    "for ii,jj in simulation.options.items():\n",
    "    print(ii,jj)\n",
    "\n",
    "print('number of iterations',simulation.number_of_iterations)\n",
    "print('number of replicas',simulation.n_replicas)\n",
    "print('number of states',simulation.n_states)"
   ]
  },
  {
   "cell_type": "code",
   "execution_count": 20,
   "metadata": {},
   "outputs": [],
   "source": [
    "simulation.run() #sera posible poner tqdm en las replicas?"
   ]
  },
  {
   "cell_type": "code",
   "execution_count": 21,
   "metadata": {},
   "outputs": [
    {
     "data": {
      "text/plain": [
       "1000"
      ]
     },
     "execution_count": 21,
     "metadata": {},
     "output_type": "execute_result"
    }
   ],
   "source": [
    "simulation.iteration"
   ]
  },
  {
   "cell_type": "code",
   "execution_count": 22,
   "metadata": {},
   "outputs": [],
   "source": [
    "analysis=ParallelTemperingAnalyzer(reporter)"
   ]
  },
  {
   "cell_type": "code",
   "execution_count": 23,
   "metadata": {},
   "outputs": [
    {
     "data": {
      "text/plain": [
       "MixingStatistics(transition_matrix=array([[0.67371938, 0.27394209, 0.04955457, 0.00278396, 0.        ,\n",
       "        0.        ],\n",
       "       [0.27394209, 0.49888641, 0.18986637, 0.03619154, 0.00111359,\n",
       "        0.        ],\n",
       "       [0.04955457, 0.18986637, 0.56347439, 0.18429844, 0.01280624,\n",
       "        0.        ],\n",
       "       [0.00278396, 0.03619154, 0.18429844, 0.6091314 , 0.15757238,\n",
       "        0.01002227],\n",
       "       [0.        , 0.00111359, 0.01280624, 0.15757238, 0.67928731,\n",
       "        0.14922049],\n",
       "       [0.        , 0.        , 0.        , 0.01002227, 0.14922049,\n",
       "        0.84075724]]), eigenvalues=array([1.        , 0.93116548, 0.75065018, 0.56541059, 0.38252598,\n",
       "       0.23550389]), statistical_inefficiency=237.50749206349224)"
      ]
     },
     "execution_count": 23,
     "metadata": {},
     "output_type": "execute_result"
    }
   ],
   "source": [
    "analysis.generate_mixing_statistics()"
   ]
  },
  {
   "cell_type": "code",
   "execution_count": 24,
   "metadata": {},
   "outputs": [],
   "source": [
    "os.remove(storage_path)"
   ]
  },
  {
   "cell_type": "markdown",
   "metadata": {},
   "source": [
    "### TODO\n",
    "- cómo saco las temperaturas de las replicas?"
   ]
  },
  {
   "cell_type": "code",
   "execution_count": null,
   "metadata": {},
   "outputs": [],
   "source": []
  }
 ],
 "metadata": {
  "anaconda-cloud": {},
  "kernelspec": {
   "display_name": "Python [conda env:remd]",
   "language": "python",
   "name": "conda-env-remd-py"
  },
  "language_info": {
   "codemirror_mode": {
    "name": "ipython",
    "version": 3
   },
   "file_extension": ".py",
   "mimetype": "text/x-python",
   "name": "python",
   "nbconvert_exporter": "python",
   "pygments_lexer": "ipython3",
   "version": "3.6.5"
  }
 },
 "nbformat": 4,
 "nbformat_minor": 2
}
