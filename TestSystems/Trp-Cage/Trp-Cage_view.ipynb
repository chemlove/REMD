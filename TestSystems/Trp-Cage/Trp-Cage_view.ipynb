{
 "cells": [
  {
   "cell_type": "code",
   "execution_count": 1,
   "metadata": {},
   "outputs": [],
   "source": [
    "import numpy as np\n",
    "from pdbfixer import PDBFixer\n",
    "from simtk import openmm, unit\n",
    "from simtk.openmm import app\n",
    "import mdtraj\n",
    "import nglview"
   ]
  },
  {
   "cell_type": "code",
   "execution_count": 2,
   "metadata": {},
   "outputs": [],
   "source": [
    "pdbs_dir=\"./\""
   ]
  },
  {
   "cell_type": "code",
   "execution_count": 3,
   "metadata": {},
   "outputs": [],
   "source": [
    "system_pdb=PDBFixer(pdbs_dir+\"1l2y.pdb\")"
   ]
  },
  {
   "cell_type": "code",
   "execution_count": 4,
   "metadata": {},
   "outputs": [
    {
     "name": "stdout",
     "output_type": "stream",
     "text": [
      "Chain index A with pdb id 0\n"
     ]
    }
   ],
   "source": [
    "for chain in system_pdb.topology.chains():\n",
    "    print(\"Chain index {} with pdb id {}\".format(chain.id,chain.index))"
   ]
  },
  {
   "cell_type": "code",
   "execution_count": 5,
   "metadata": {},
   "outputs": [],
   "source": [
    "system_pdb.findMissingResidues()\n",
    "system_pdb.findNonstandardResidues()\n",
    "system_pdb.findMissingAtoms()"
   ]
  },
  {
   "cell_type": "code",
   "execution_count": 7,
   "metadata": {},
   "outputs": [],
   "source": [
    "system_pdb.addMissingAtoms()"
   ]
  },
  {
   "cell_type": "code",
   "execution_count": 8,
   "metadata": {},
   "outputs": [],
   "source": [
    "def make_view(topology=None,positions=None):\n",
    "    mdtraj_aux_topology = mdtraj.Topology.from_openmm(topology)\n",
    "    traj_aux = mdtraj.Trajectory(positions/unit.nanometers, mdtraj_aux_topology)\n",
    "    view = nglview.show_mdtraj(traj_aux)\n",
    "    view.center()\n",
    "    return view"
   ]
  },
  {
   "cell_type": "code",
   "execution_count": 9,
   "metadata": {},
   "outputs": [
    {
     "data": {
      "application/vnd.jupyter.widget-view+json": {
       "model_id": "f4e78dde608845ebb9b3e2821cd406d2",
       "version_major": 2,
       "version_minor": 0
      },
      "text/plain": [
       "NGLWidget()"
      ]
     },
     "metadata": {},
     "output_type": "display_data"
    }
   ],
   "source": [
    "view=make_view(system_pdb.topology,system_pdb.positions)\n",
    "view"
   ]
  }
 ],
 "metadata": {
  "anaconda-cloud": {},
  "kernelspec": {
   "display_name": "Python [conda env:remd]",
   "language": "python",
   "name": "conda-env-remd-py"
  },
  "language_info": {
   "codemirror_mode": {
    "name": "ipython",
    "version": 3
   },
   "file_extension": ".py",
   "mimetype": "text/x-python",
   "name": "python",
   "nbconvert_exporter": "python",
   "pygments_lexer": "ipython3",
   "version": "3.6.5"
  }
 },
 "nbformat": 4,
 "nbformat_minor": 2
}
