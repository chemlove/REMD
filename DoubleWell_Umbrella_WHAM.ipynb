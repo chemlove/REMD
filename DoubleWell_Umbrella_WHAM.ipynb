{
 "cells": [
  {
   "cell_type": "markdown",
   "metadata": {},
   "source": [
    "# Umbrella and MBAR\n",
    "\n",
    "- Debería hacer Umbrella y WHAM\n",
    "\n",
    "-------------------"
   ]
  },
  {
   "cell_type": "code",
   "execution_count": 1,
   "metadata": {},
   "outputs": [],
   "source": [
    "import os\n",
    "import numpy as np\n",
    "#import sympy as sy\n",
    "import math\n",
    "\n",
    "import matplotlib.pyplot as plt\n",
    "\n",
    "import simtk.openmm as mm\n",
    "import simtk.unit as unit\n",
    "import simtk.openmm.app as app\n",
    "\n",
    "#import openmmtools as mmtools\n",
    "#from openmmtools import testsystems\n",
    "\n",
    "#import yank.repex as repex\n",
    "#import yank.analyze as analyze\n",
    "\n",
    "#import tempfile\n",
    "\n",
    "plt.style.use(\"ggplot\")"
   ]
  },
  {
   "cell_type": "markdown",
   "metadata": {},
   "source": [
    "## Creo el sistema"
   ]
  },
  {
   "cell_type": "code",
   "execution_count": 2,
   "metadata": {},
   "outputs": [
    {
     "data": {
      "text/plain": [
       "0"
      ]
     },
     "execution_count": 2,
     "metadata": {},
     "output_type": "execute_result"
    }
   ],
   "source": [
    "# One particle in 3D\n",
    "system = mm.System()\n",
    "mass = 1.0 * unit.amu \n",
    "system.addParticle(mass)"
   ]
  },
  {
   "cell_type": "code",
   "execution_count": 5,
   "metadata": {},
   "outputs": [
    {
     "data": {
      "image/png": "[encoded data removed]",
      "text/plain": [
       "<Figure size 432x288 with 1 Axes>"
      ]
     },
     "metadata": {},
     "output_type": "display_data"
    }
   ],
   "source": [
    "def harmonic_well(x,K):\n",
    "    # '(1/2)*K*x^2'\n",
    "    return 0.5*K*x**2\n",
    "\n",
    "def double_well(x,Eo,C,M):\n",
    "    # 'Eo(C*x^4-x^2)+M*x'\n",
    "    return Eo*(C*x**4-x**2)+M*x\n",
    "\n",
    "\n",
    "K=100.0\n",
    "Eo=8.0\n",
    "C=0.4\n",
    "M=-0.175\n",
    "\n",
    "x_serie = np.arange(-5., 5., 0.05)\n",
    "\n",
    "plt.plot(x_serie, harmonic_well(x_serie,K), 'b-')\n",
    "plt.plot(x_serie, double_well(x_serie,Eo,C,M), 'r-')\n",
    "plt.ylim(-7,7)\n",
    "plt.xlim(-3,3)\n",
    "plt.show()"
   ]
  },
  {
   "cell_type": "code",
   "execution_count": null,
   "metadata": {},
   "outputs": [],
   "source": []
  }
 ],
 "metadata": {
  "kernelspec": {
   "display_name": "Python 3",
   "language": "python",
   "name": "python3"
  },
  "language_info": {
   "codemirror_mode": {
    "name": "ipython",
    "version": 3
   },
   "file_extension": ".py",
   "mimetype": "text/x-python",
   "name": "python",
   "nbconvert_exporter": "python",
   "pygments_lexer": "ipython3",
   "version": "3.6.4"
  }
 },
 "nbformat": 4,
 "nbformat_minor": 2
}
