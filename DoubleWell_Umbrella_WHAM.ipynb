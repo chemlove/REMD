{
 "cells": [
  {
   "cell_type": "markdown",
   "metadata": {},
   "source": [
    "# Umbrella and MBAR\n",
    "\n",
    "- Debería hacer Umbrella y WHAM\n",
    "\n",
    "-------------------"
   ]
  },
  {
   "cell_type": "code",
   "execution_count": 60,
   "metadata": {},
   "outputs": [],
   "source": [
    "import os\n",
    "import numpy as np\n",
    "#import sympy as sy\n",
    "import math\n",
    "import copy\n",
    "\n",
    "import matplotlib.pyplot as plt\n",
    "\n",
    "import simtk.openmm as mm\n",
    "import simtk.unit as unit\n",
    "import simtk.openmm.app as app\n",
    "\n",
    "#import openmmtools as mmtools\n",
    "#from openmmtools import testsystems\n",
    "\n",
    "#import yank.repex as repex\n",
    "#import yank.analyze as analyze\n",
    "\n",
    "#import tempfile\n",
    "\n",
    "from tqdm import tqdm\n",
    "\n",
    "plt.style.use(\"ggplot\")"
   ]
  },
  {
   "cell_type": "markdown",
   "metadata": {},
   "source": [
    "## Creo el sistema"
   ]
  },
  {
   "cell_type": "code",
   "execution_count": 2,
   "metadata": {},
   "outputs": [
    {
     "data": {
      "text/plain": [
       "0"
      ]
     },
     "execution_count": 2,
     "metadata": {},
     "output_type": "execute_result"
    }
   ],
   "source": [
    "# One particle in 3D\n",
    "system = mm.System()\n",
    "mass = 1.0 * unit.amu \n",
    "system.addParticle(mass)"
   ]
  },
  {
   "cell_type": "code",
   "execution_count": 3,
   "metadata": {},
   "outputs": [
    {
     "data": {
      "image/png": "[encoded data removed]",
      "text/plain": [
       "<Figure size 432x288 with 1 Axes>"
      ]
     },
     "metadata": {},
     "output_type": "display_data"
    }
   ],
   "source": [
    "def harmonic_well(x,K):\n",
    "    # '(1/2)*K*x^2'\n",
    "    return 0.5*K*x**2\n",
    "\n",
    "def double_well(x,Eo,C,M):\n",
    "    # 'Eo(C*x^4-x^2)+M*x'\n",
    "    return Eo*(C*x**4-x**2)+M*x\n",
    "\n",
    "\n",
    "K=100.0\n",
    "Eo=8.0\n",
    "C=0.4\n",
    "M=-0.175\n",
    "\n",
    "x_serie = np.arange(-5., 5., 0.05)\n",
    "\n",
    "plt.plot(x_serie, harmonic_well(x_serie,K), 'b-')\n",
    "plt.plot(x_serie, double_well(x_serie,Eo,C,M), 'r-')\n",
    "plt.ylim(-7,7)\n",
    "plt.xlim(-3,3)\n",
    "plt.show()"
   ]
  },
  {
   "cell_type": "code",
   "execution_count": 4,
   "metadata": {},
   "outputs": [],
   "source": [
    "## Adding potential to the system"
   ]
  },
  {
   "cell_type": "code",
   "execution_count": 5,
   "metadata": {},
   "outputs": [
    {
     "data": {
      "text/plain": [
       "0"
      ]
     },
     "execution_count": 5,
     "metadata": {},
     "output_type": "execute_result"
    }
   ],
   "source": [
    "K  = K  * unit.kilocalories_per_mole/unit.angstrom**2\n",
    "Eo = Eo * unit.kilocalories_per_mole/unit.angstrom**2\n",
    "C  = C  * 1/unit.angstrom**2\n",
    "M  = M  * unit.kilocalories_per_mole/unit.angstrom\n",
    "\n",
    "force = mm.CustomExternalForce('Eo*(C*x^4-x^2)+M*x + (K/2.0)*(y^2+z^2)')\n",
    "force.addGlobalParameter('K', K)\n",
    "force.addGlobalParameter('Eo', Eo)\n",
    "force.addGlobalParameter('C', C)\n",
    "force.addGlobalParameter('M', M)\n",
    "force.addParticle(0, [])\n",
    "system.addForce(force)"
   ]
  },
  {
   "cell_type": "code",
   "execution_count": 7,
   "metadata": {},
   "outputs": [],
   "source": [
    "## Initial Conditions"
   ]
  },
  {
   "cell_type": "code",
   "execution_count": 8,
   "metadata": {},
   "outputs": [],
   "source": [
    "position_minimum=np.array([1.1,0.0,0.0],dtype=float)\n",
    "initial_positions = unit.Quantity(position_minimum, unit.angstroms)\n",
    "#initial_velocitiies will be randomly generated according to temperature by function:\n",
    "#context.setVelocitiesToTemperature(temperature)"
   ]
  },
  {
   "cell_type": "code",
   "execution_count": 9,
   "metadata": {},
   "outputs": [],
   "source": [
    "## Adding the Umbrella Potential"
   ]
  },
  {
   "cell_type": "code",
   "execution_count": 10,
   "metadata": {},
   "outputs": [
    {
     "data": {
      "text/plain": [
       "1"
      ]
     },
     "execution_count": 10,
     "metadata": {},
     "output_type": "execute_result"
    }
   ],
   "source": [
    "Ku  = 100.0 * unit.kilocalories_per_mole/unit.angstrom**2\n",
    "xu  = 1.1 * unit.angstrom\n",
    "\n",
    "umbrella = mm.CustomExternalForce('(Ku/2.0)*(x-xu)^2')\n",
    "umbrella.addGlobalParameter('Ku', Ku)\n",
    "umbrella.addGlobalParameter('xu', xu)\n",
    "umbrella.addParticle(0, [])\n",
    "system.addForce(umbrella)"
   ]
  },
  {
   "cell_type": "code",
   "execution_count": 11,
   "metadata": {},
   "outputs": [],
   "source": [
    "## Umbrella replicas options"
   ]
  },
  {
   "cell_type": "code",
   "execution_count": 15,
   "metadata": {},
   "outputs": [],
   "source": [
    "lim_inf_us = -1.8\n",
    "lim_sup_us = 1.8\n",
    "nus = 12\n",
    "xus=np.linspace(lim_inf_us, lim_sup_us, nus)\n",
    "Kus=np.repeat(100.0,nus)"
   ]
  },
  {
   "cell_type": "code",
   "execution_count": 18,
   "metadata": {},
   "outputs": [],
   "source": [
    "## replica md options"
   ]
  },
  {
   "cell_type": "code",
   "execution_count": 38,
   "metadata": {},
   "outputs": [],
   "source": [
    "step_size       = 0.002*unit.picoseconds\n",
    "num_steps       = 2000\n",
    "saving_period   = 20\n",
    "num_checks      = int(num_steps/saving_period)\n",
    "\n",
    "kB = unit.BOLTZMANN_CONSTANT_kB * unit.AVOGADRO_CONSTANT_NA\n",
    "temperature = 300*unit.kelvin\n",
    "\n",
    "friction    = 5/unit.picosecond\n",
    "integrator = mm.LangevinIntegrator(temperature, friction, step_size)"
   ]
  },
  {
   "cell_type": "code",
   "execution_count": null,
   "metadata": {},
   "outputs": [],
   "source": [
    "## thermodynamic states definition"
   ]
  },
  {
   "cell_type": "code",
   "execution_count": 64,
   "metadata": {},
   "outputs": [],
   "source": [
    "systems=[]\n",
    "\n",
    "for Ku, xu in zip(Kus,xus):\n",
    "    system.positions=unit.Quantity(np.array([[xu,0.0,0.0]],dtype=float), unit.angstroms)\n",
    "    system.xu=xu*unit.angstrom\n",
    "    system.Ku=Ku*unit.kilocalories_per_mole/unit.angstrom**2\n",
    "    systems.append(copy.deepcopy(system))"
   ]
  },
  {
   "cell_type": "code",
   "execution_count": 34,
   "metadata": {},
   "outputs": [],
   "source": [
    "## Output arrays and reporters"
   ]
  },
  {
   "cell_type": "code",
   "execution_count": 39,
   "metadata": {},
   "outputs": [],
   "source": [
    "times     = []\n",
    "positions = []\n",
    "velocities = []\n",
    "potential_energies = []\n",
    "kinetic_energies = []\n",
    "\n",
    "for _ in range(nus):\n",
    "    times.append(unit.Quantity(np.zeros([num_checks], np.float32), unit.picoseconds))\n",
    "    positions.append(unit.Quantity(np.zeros([num_checks,3], np.float32), unit.angstroms))\n",
    "    velocities.append(unit.Quantity(np.zeros([num_checks,3], np.float32), unit.angstroms/unit.picosecond))\n",
    "    potential_energies.append(unit.Quantity(np.zeros([num_checks], np.float32), unit.kilocalories_per_mole))\n",
    "    kinetic_energies.append(unit.Quantity(np.zeros([num_checks], np.float32), unit.kilocalories_per_mole))"
   ]
  },
  {
   "cell_type": "code",
   "execution_count": 20,
   "metadata": {},
   "outputs": [],
   "source": [
    "## Platform running"
   ]
  },
  {
   "cell_type": "code",
   "execution_count": 41,
   "metadata": {},
   "outputs": [],
   "source": [
    "platform_name='CPU'  #platform:     A platform (CPU, OpenCL, CUDA, or reference); default is platform=OpenCL\"\n",
    "# for ii in range(mm.Platform.getNumPlatforms()):\n",
    "#     print(mm.Platform.getPlatform(ii).getName())\n",
    "platform = mm.Platform.getPlatformByName(platform_name)"
   ]
  },
  {
   "cell_type": "code",
   "execution_count": 54,
   "metadata": {},
   "outputs": [
    {
     "name": "stderr",
     "output_type": "stream",
     "text": [
      "100%|██████████| 12/12 [00:05<00:00,  2.04it/s]\n"
     ]
    }
   ],
   "source": [
    "## Running Simulations\n",
    "\n",
    "for u_index in tqdm(range(nus)):\n",
    "    \n",
    "    system_u             = systems[u_index]\n",
    "    times_u              = times[u_index]\n",
    "    positions_u          = positions[u_index]\n",
    "    velocities_u         = velocities[u_index]\n",
    "    kinetic_energies_u   = kinetic_energies[u_index]\n",
    "    potential_energies_u = potential_energies[u_index]\n",
    "    integrator_u = mm.LangevinIntegrator(temperature, friction, step_size)\n",
    "    \n",
    "    context = mm.Context(system_u, integrator_u, platform)\n",
    "    context.setPositions(system_u.positions)\n",
    "    context.setVelocitiesToTemperature(temperature)\n",
    "    context.setParameter('Ku', system_u.Ku)\n",
    "    context.setParameter('xu', system_u.xu)\n",
    "    \n",
    "    state = context.getState(getEnergy=True, getPositions=True, getVelocities=True)\n",
    "    times_u[0] = state.getTime()\n",
    "    positions_u[0] = state.getPositions()[0]\n",
    "    velocities_u[0] = state.getVelocities()[0]\n",
    "    kinetic_energies_u[0]=state.getKineticEnergy()\n",
    "    potential_energies_u[0]=state.getPotentialEnergy()\n",
    "    \n",
    "    for ii in range(num_checks):\n",
    "        context.getIntegrator().step(saving_period)\n",
    "        state = context.getState(getEnergy=True, getPositions=True, getVelocities=True)\n",
    "        times_u[ii] = state.getTime()\n",
    "        positions_u[ii] = state.getPositions()[0]\n",
    "        velocities_u[ii] = state.getVelocities()[0]\n",
    "        kinetic_energies_u[ii]=state.getKineticEnergy()\n",
    "        potential_energies_u[ii]=state.getPotentialEnergy()"
   ]
  },
  {
   "cell_type": "code",
   "execution_count": 55,
   "metadata": {},
   "outputs": [
    {
     "data": {
      "image/png": "[encoded data removed]",
      "text/plain": [
       "<Figure size 432x288 with 1 Axes>"
      ]
     },
     "metadata": {},
     "output_type": "display_data"
    }
   ],
   "source": [
    "for u_index in range(nus):\n",
    "    hist, bin_edges = np.histogram(positions[u_index][:,0],bins=30, density=True)\n",
    "    plt.plot((bin_edges[1:]+bin_edges[:-1])/2.0,hist,'-b')"
   ]
  },
  {
   "cell_type": "code",
   "execution_count": 65,
   "metadata": {},
   "outputs": [
    {
     "ename": "AttributeError",
     "evalue": "type object 'object' has no attribute '__getattr__'",
     "output_type": "error",
     "traceback": [
      "\u001b[0;31m---------------------------------------------------------------------------\u001b[0m",
      "\u001b[0;31mAttributeError\u001b[0m                            Traceback (most recent call last)",
      "\u001b[0;32m<ipython-input-65-e8d54c4c170e>\u001b[0m in \u001b[0;36m<module>\u001b[0;34m()\u001b[0m\n\u001b[0;32m----> 1\u001b[0;31m \u001b[0msystems\u001b[0m\u001b[0;34m[\u001b[0m\u001b[0;36m1\u001b[0m\u001b[0;34m]\u001b[0m\u001b[0;34m.\u001b[0m\u001b[0mxu\u001b[0m\u001b[0;34m\u001b[0m\u001b[0m\n\u001b[0m",
      "\u001b[0;32m~/Myusr/opt/miniconda3/envs/omnia3/lib/python3.6/site-packages/simtk/openmm/openmm.py\u001b[0m in \u001b[0;36m<lambda>\u001b[0;34m(self, name)\u001b[0m\n\u001b[1;32m  15419\u001b[0m     \u001b[0m__setattr__\u001b[0m \u001b[0;34m=\u001b[0m \u001b[0;32mlambda\u001b[0m \u001b[0mself\u001b[0m\u001b[0;34m,\u001b[0m \u001b[0mname\u001b[0m\u001b[0;34m,\u001b[0m \u001b[0mvalue\u001b[0m\u001b[0;34m:\u001b[0m \u001b[0m_swig_setattr\u001b[0m\u001b[0;34m(\u001b[0m\u001b[0mself\u001b[0m\u001b[0;34m,\u001b[0m \u001b[0mSystem\u001b[0m\u001b[0;34m,\u001b[0m \u001b[0mname\u001b[0m\u001b[0;34m,\u001b[0m \u001b[0mvalue\u001b[0m\u001b[0;34m)\u001b[0m\u001b[0;34m\u001b[0m\u001b[0m\n\u001b[1;32m  15420\u001b[0m     \u001b[0m__swig_getmethods__\u001b[0m \u001b[0;34m=\u001b[0m \u001b[0;34m{\u001b[0m\u001b[0;34m}\u001b[0m\u001b[0;34m\u001b[0m\u001b[0m\n\u001b[0;32m> 15421\u001b[0;31m     \u001b[0m__getattr__\u001b[0m \u001b[0;34m=\u001b[0m \u001b[0;32mlambda\u001b[0m \u001b[0mself\u001b[0m\u001b[0;34m,\u001b[0m \u001b[0mname\u001b[0m\u001b[0;34m:\u001b[0m \u001b[0m_swig_getattr\u001b[0m\u001b[0;34m(\u001b[0m\u001b[0mself\u001b[0m\u001b[0;34m,\u001b[0m \u001b[0mSystem\u001b[0m\u001b[0;34m,\u001b[0m \u001b[0mname\u001b[0m\u001b[0;34m)\u001b[0m\u001b[0;34m\u001b[0m\u001b[0m\n\u001b[0m\u001b[1;32m  15422\u001b[0m     \u001b[0m__repr__\u001b[0m \u001b[0;34m=\u001b[0m \u001b[0m_swig_repr\u001b[0m\u001b[0;34m\u001b[0m\u001b[0m\n\u001b[1;32m  15423\u001b[0m     \u001b[0m__swig_destroy__\u001b[0m \u001b[0;34m=\u001b[0m \u001b[0m_openmm\u001b[0m\u001b[0;34m.\u001b[0m\u001b[0mdelete_System\u001b[0m\u001b[0;34m\u001b[0m\u001b[0m\n",
      "\u001b[0;32m~/Myusr/opt/miniconda3/envs/omnia3/lib/python3.6/site-packages/simtk/openmm/openmm.py\u001b[0m in \u001b[0;36m_swig_getattr\u001b[0;34m(self, class_type, name)\u001b[0m\n\u001b[1;32m     72\u001b[0m \u001b[0;34m\u001b[0m\u001b[0m\n\u001b[1;32m     73\u001b[0m \u001b[0;32mdef\u001b[0m \u001b[0m_swig_getattr\u001b[0m\u001b[0;34m(\u001b[0m\u001b[0mself\u001b[0m\u001b[0;34m,\u001b[0m \u001b[0mclass_type\u001b[0m\u001b[0;34m,\u001b[0m \u001b[0mname\u001b[0m\u001b[0;34m)\u001b[0m\u001b[0;34m:\u001b[0m\u001b[0;34m\u001b[0m\u001b[0m\n\u001b[0;32m---> 74\u001b[0;31m     \u001b[0;32mreturn\u001b[0m \u001b[0m_swig_getattr_nondynamic\u001b[0m\u001b[0;34m(\u001b[0m\u001b[0mself\u001b[0m\u001b[0;34m,\u001b[0m \u001b[0mclass_type\u001b[0m\u001b[0;34m,\u001b[0m \u001b[0mname\u001b[0m\u001b[0;34m,\u001b[0m \u001b[0;36m0\u001b[0m\u001b[0;34m)\u001b[0m\u001b[0;34m\u001b[0m\u001b[0m\n\u001b[0m\u001b[1;32m     75\u001b[0m \u001b[0;34m\u001b[0m\u001b[0m\n\u001b[1;32m     76\u001b[0m \u001b[0;34m\u001b[0m\u001b[0m\n",
      "\u001b[0;32m~/Myusr/opt/miniconda3/envs/omnia3/lib/python3.6/site-packages/simtk/openmm/openmm.py\u001b[0m in \u001b[0;36m_swig_getattr_nondynamic\u001b[0;34m(self, class_type, name, static)\u001b[0m\n\u001b[1;32m     67\u001b[0m         \u001b[0;32mreturn\u001b[0m \u001b[0mmethod\u001b[0m\u001b[0;34m(\u001b[0m\u001b[0mself\u001b[0m\u001b[0;34m)\u001b[0m\u001b[0;34m\u001b[0m\u001b[0m\n\u001b[1;32m     68\u001b[0m     \u001b[0;32mif\u001b[0m \u001b[0;34m(\u001b[0m\u001b[0;32mnot\u001b[0m \u001b[0mstatic\u001b[0m\u001b[0;34m)\u001b[0m\u001b[0;34m:\u001b[0m\u001b[0;34m\u001b[0m\u001b[0m\n\u001b[0;32m---> 69\u001b[0;31m         \u001b[0;32mreturn\u001b[0m \u001b[0mobject\u001b[0m\u001b[0;34m.\u001b[0m\u001b[0m__getattr__\u001b[0m\u001b[0;34m(\u001b[0m\u001b[0mself\u001b[0m\u001b[0;34m,\u001b[0m \u001b[0mname\u001b[0m\u001b[0;34m)\u001b[0m\u001b[0;34m\u001b[0m\u001b[0m\n\u001b[0m\u001b[1;32m     70\u001b[0m     \u001b[0;32melse\u001b[0m\u001b[0;34m:\u001b[0m\u001b[0;34m\u001b[0m\u001b[0m\n\u001b[1;32m     71\u001b[0m         \u001b[0;32mraise\u001b[0m \u001b[0mAttributeError\u001b[0m\u001b[0;34m(\u001b[0m\u001b[0mname\u001b[0m\u001b[0;34m)\u001b[0m\u001b[0;34m\u001b[0m\u001b[0m\n",
      "\u001b[0;31mAttributeError\u001b[0m: type object 'object' has no attribute '__getattr__'"
     ]
    }
   ],
   "source": [
    "systems[1].xu"
   ]
  },
  {
   "cell_type": "code",
   "execution_count": null,
   "metadata": {},
   "outputs": [],
   "source": []
  }
 ],
 "metadata": {
  "kernelspec": {
   "display_name": "Python 3",
   "language": "python",
   "name": "python3"
  },
  "language_info": {
   "codemirror_mode": {
    "name": "ipython",
    "version": 3
   },
   "file_extension": ".py",
   "mimetype": "text/x-python",
   "name": "python",
   "nbconvert_exporter": "python",
   "pygments_lexer": "ipython3",
   "version": "3.6.4"
  }
 },
 "nbformat": 4,
 "nbformat_minor": 2
}
