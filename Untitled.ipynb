{
 "cells": [
  {
   "cell_type": "markdown",
   "metadata": {},
   "source": [
    "# Introduction to Replica Exchange Molecular Dynamics"
   ]
  },
  {
   "cell_type": "markdown",
   "metadata": {},
   "source": [
    "## Questions\n",
    "- Why the equilibrium distribution is correct? Why does REMD sampled the correct Boltzmann Distribution\n",
    "- How we know when it converged?\n",
    "- Whats a good mixture or swapping of replicas?"
   ]
  },
  {
   "cell_type": "markdown",
   "metadata": {},
   "source": [
    "## References\n",
    "http://www.choderalab.org/publications/2014/4/26/replica-exchange-and-expanded-ensemble-simulations-as-gibbs-sampling-simple-improvements-for-enhanced-mixing\n"
   ]
  },
  {
   "cell_type": "markdown",
   "metadata": {},
   "source": [
    "## Sources\n",
    "\n",
    "http://www.bcp.fu-berlin.de/en/chemie/chemie/forschung/PhysTheoChem/agkeller/_Docs/Project11.pdf\n",
    "\n",
    "### Github Repos to have a look\n",
    "https://github.com/kyleabeauchamp/repex\n",
    "https://github.com/choderalab/openmmtools\n",
    "http://www.compmolbiophysbc.org/software\n",
    "http://openmmtools.readthedocs.io/en/latest/\n",
    "https://github.com/baofzhang/async_re-openmm\n",
    "https://github.com/choderalab/gibbs/tree/master/openmm\n",
    "\n"
   ]
  },
  {
   "cell_type": "markdown",
   "metadata": {},
   "source": [
    "## Theory\n",
    "\n",
    "System:\n",
    "$N$ atoms of mass $m_{k}$ with coordinates $q \\equiv \\{\\vec{q}_{1},\\dots,\\vec{q}_{N}\\}$ and momentum $p \\equiv \\{\\vec{p}_{1},\\dots,\\vec{p}_{N}\\}$.\n",
    "The Hamiltonian $H(q,p)$ of the system is the sum of the kinetic energy $K(p)$ and the potential energy $E(q)$:\n",
    "\n",
    "\\begin{equation}\n",
    "H(q,p)=K(p)+E(q)\n",
    "\\end{equation}\n",
    "\n",
    "\\begin{equation}\n",
    "K(p)=\\sum_{k=1}^{N}\\frac{\\vec{p}_{k}^{2}}{2m_{k}}\n",
    "\\end{equation}\n",
    "\n",
    "In the canonical ensemble, at temperature T, each state $x\\equiv(q,p)$ with the hamiltonian $H(q,p)$ is weighted by the Boltzman factor:\n",
    "\n",
    "\\begin{equation}\n",
    "W_{B}(x;T)=e^{-\\beta H(q,p)}\n",
    "\\end{equation}\n",
    "\n",
    "Where $\\beta = 1/k_{B}T$ and $k_{B}$ is the Boltzmann factor"
   ]
  },
  {
   "cell_type": "markdown",
   "metadata": {},
   "source": [
    "### Average values in equilibrium\n",
    "\n",
    "The average value of the observable $A(q,p)$ at temperature T is:\n",
    "\n",
    "\\begin{equation}\n",
    "<A(q,p)>_{T}=\\frac{\\int A(q,p) e^{-\\beta H(q,p)} dq dp}{\\int e^{-\\beta H(q,p)} dq dp}\n",
    "\\end{equation}\n",
    "\n",
    "This way:\n",
    "\n",
    "\\begin{equation}\n",
    "<K(p)>_{T}=\\frac{\\int (\\sum_{k=1}^{N}\\frac{\\vec{p}_{k}^{2}}{2m_{k}}) e^{-\\beta H(q,p)} dq dp}{\\int e^{-\\beta H(q,p)} dq dp}=\\frac{3}{2}Nk_{B}T\n",
    "\\end{equation}"
   ]
  },
  {
   "cell_type": "markdown",
   "metadata": {},
   "source": [
    "## Replica Exchange in Temperature\n",
    "\n",
    "$M$ non interacting copies (or replicas) of the original system in the canonical ensemble at $m$ different temperatures $T_{m}$ ($m=1,\\dots,M$). The label $i$ $(i=1,\\dots,M)$ is always a permutation of the label $m$ and viceversa:\n",
    "\n",
    "\n",
    "\n"
   ]
  },
  {
   "cell_type": "markdown",
   "metadata": {},
   "source": [
    "## Double well, a benchmark system"
   ]
  },
  {
   "cell_type": "code",
   "execution_count": null,
   "metadata": {},
   "outputs": [],
   "source": [
    "#from __future__ import division, print_function\n",
    "#\n",
    "#import sys\n",
    "\n",
    "import numpy as np\n",
    "\n",
    "import simtk.unit as unit\n",
    "import simtk.openmm as mm\n",
    "import simtk.openmm.app as app\n",
    "\n",
    "\n",
    "kB = unit.BOLTZMANN_CONSTANT_kB * unit.AVOGADRO_CONSTANT_NA\n",
    "\n",
    "\n",
    "#####\n",
    "\n",
    "num_particles  = 1\n",
    "num_dimensions = 1\n",
    "\n",
    "mass           = 100.0 * unit.amu\n",
    "\n",
    "K = 1.0 * unit.kilocalories_per_mole / unit.angstroms**2\n",
    "\n",
    "integrator  = 'Verlet' # 'Langevin' or 'Verlet'\n",
    "temperature = 298.0*u.kelvin\n",
    "pressure    = None\n",
    "damping     = None\n",
    "\n",
    "# Create an empty system object\n",
    "system = mm.System()\n",
    "\n",
    "# Add the particles\n",
    "for ii in range(num_particles):\n",
    "    system.addParticle(mass)\n",
    "\n",
    "# Set the positions\n",
    "positions = unit.Quantity(np.zeros([num_particles,3], np.float), unit.nanometers)\n",
    "\n",
    "# Add the harmonic potential\n",
    "\n",
    "harmonic_force = mm.CustomExternalForce('(k/2.0) * (x-x0)^2')\n",
    "harmonic_force.addGlobalParameter(\"k\",1.0) # default value\n",
    "harmonic_force.addGlobalParameter(\"x0\",0.0) # default value\n",
    "harmonic_force.addParticle()\n",
    "system.addForce(harmonic_force)\n",
    "\n",
    "for ii in range(system.getNumParticles()):\n",
    "    harmonic_force.addParticle(ii,[])\n",
    "\n",
    "\n",
    "integrator = mm.LangevinIntegrator(\n",
    "                        300*u.kelvin,       # Temperature of heat bath\n",
    "                        1.0/u.picoseconds,  # Friction coefficient\n",
    "                        2.0*u.femtoseconds, # Time step\n",
    ")\n",
    "\n",
    "simulation.context.setPositions(pdb.positions)\n",
    "state = simulation.context.getState(getEnergy=True)\n",
    "print file, state.getPotentialEnergy()"
   ]
  }
 ],
 "metadata": {
  "kernelspec": {
   "display_name": "Python [conda env:mylab3]",
   "language": "python",
   "name": "conda-env-mylab3-py"
  },
  "language_info": {
   "codemirror_mode": {
    "name": "ipython",
    "version": 3
   },
   "file_extension": ".py",
   "mimetype": "text/x-python",
   "name": "python",
   "nbconvert_exporter": "python",
   "pygments_lexer": "ipython3",
   "version": "3.6.4"
  }
 },
 "nbformat": 4,
 "nbformat_minor": 2
}
