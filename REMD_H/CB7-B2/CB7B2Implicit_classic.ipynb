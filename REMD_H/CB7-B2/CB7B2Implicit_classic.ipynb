{
 "cells": [
  {
   "cell_type": "code",
   "execution_count": 1,
   "metadata": {},
   "outputs": [],
   "source": [
    "import os\n",
    "import sys\n",
    "os.environ['PATH']+=':'+sys.path[1].split('lib')[0]+'bin'\n",
    "sys.path.append('/home/diego/Projects')\n",
    "\n",
    "import tqdm\n",
    "import tempfile\n",
    "import numpy as np\n",
    "import matplotlib.pyplot as plt\n",
    "\n",
    "import simtk.openmm as openmm\n",
    "import simtk.unit as unit\n",
    "import simtk.openmm.app as app\n",
    "from openmmtools import states, mcmc\n",
    "from yank.multistate import ParallelTemperingSampler, MultiStateReporter, ParallelTemperingAnalyzer\n",
    "\n",
    "import TestSystems.testsystems_uibcdf as TestSystems\n",
    "\n",
    "plt.style.use(\"ggplot\")"
   ]
  },
  {
   "cell_type": "markdown",
   "metadata": {},
   "source": [
    "# Setting up the system"
   ]
  },
  {
   "cell_type": "code",
   "execution_count": 2,
   "metadata": {},
   "outputs": [],
   "source": [
    "working_system = TestSystems.CB7B2Implicit()\n",
    "positions = working_system.positions"
   ]
  },
  {
   "cell_type": "code",
   "execution_count": 3,
   "metadata": {},
   "outputs": [
    {
     "data": {
      "application/vnd.jupyter.widget-view+json": {
       "model_id": "f977c3f72d244122964ed27580aa8b62",
       "version_major": 2,
       "version_minor": 0
      },
      "text/plain": [
       "NGLWidget()"
      ]
     },
     "metadata": {},
     "output_type": "display_data"
    }
   ],
   "source": [
    "working_system.make_nglview()"
   ]
  },
  {
   "cell_type": "markdown",
   "metadata": {},
   "source": [
    "# Setting up the experiment variables"
   ]
  },
  {
   "cell_type": "code",
   "execution_count": 5,
   "metadata": {},
   "outputs": [],
   "source": [
    "experiment_continuation= False\n",
    "minimize = True # minimize\n",
    "equilibrate = True # equilibrate\n",
    "\n",
    "# minimization\n",
    "tolerance = 1.0 * unit.kilocalories_per_mole / unit.nanometer\n",
    "maximum_evaluations = 5000\n",
    "\n",
    "# equilibration\n",
    "collision_rate = 5.0 / unit.picosecond #Langevin\n",
    "timestep_equilibration = 1.0 * unit.femtoseconds\n",
    "nequiliterations = 100\n",
    "nsteps_equilibration = 10000\n",
    "\n",
    "# Alchemy\n",
    "lambda_electrostatics = [1.00, 0.95, 0.90, 0.80, 0.70, 0.60, 0.50, 0.40,\n",
    "                         0.30, 0.20, 0.10, 0.00, 0.00, 0.00, 0.00, 0.00,\n",
    "                         0.00, 0.00, 0.00, 0.00, 0.00, 0.00, 0.00, 0.00]\n",
    "lambda_sterics        = [1.00, 1.00, 1.00, 1.00, 1.00, 1.00, 1.00, 1.00,\n",
    "                         1.00, 1.00, 1.00, 1.00, 0.90, 0.80, 0.70, 0.60,\n",
    "                         0.50, 0.40, 0.30, 0.20, 0.15, 0.10, 0.05, 0.00]\n",
    "# Replica Exchange\n",
    "restraint = 'Harmonic'\n",
    "timestep = 2.0 * unit.femtoseconds # timestep for simulation   \n",
    "nsteps = 50 # number of timesteps per iteration (exchange attempt)\n",
    "niterations = 1000 # number of iterations"
   ]
  },
  {
   "cell_type": "code",
   "execution_count": null,
   "metadata": {},
   "outputs": [],
   "source": []
  }
 ],
 "metadata": {
  "anaconda-cloud": {},
  "kernelspec": {
   "display_name": "Python [conda env:remd]",
   "language": "python",
   "name": "conda-env-remd-py"
  },
  "language_info": {
   "codemirror_mode": {
    "name": "ipython",
    "version": 3
   },
   "file_extension": ".py",
   "mimetype": "text/x-python",
   "name": "python",
   "nbconvert_exporter": "python",
   "pygments_lexer": "ipython3",
   "version": "3.6.5"
  }
 },
 "nbformat": 4,
 "nbformat_minor": 2
}
