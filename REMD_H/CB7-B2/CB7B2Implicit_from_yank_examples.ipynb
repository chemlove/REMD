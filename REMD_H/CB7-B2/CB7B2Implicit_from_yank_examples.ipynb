{
 "cells": [
  {
   "cell_type": "code",
   "execution_count": 1,
   "metadata": {},
   "outputs": [],
   "source": [
    "import os\n",
    "import sys\n",
    "os.environ['PATH']+=':'+sys.path[1].split('lib')[0]+'bin'\n",
    "sys.path.append('/home/diego/Projects')\n",
    "\n",
    "import textwrap\n",
    "import openmmtools as mmtools\n",
    "import yank as yank"
   ]
  },
  {
   "cell_type": "markdown",
   "metadata": {},
   "source": [
    "# Setting up the experiment"
   ]
  },
  {
   "cell_type": "code",
   "execution_count": 5,
   "metadata": {},
   "outputs": [],
   "source": [
    "yaml_content = '''\n",
    "---\n",
    "# Set the general options of our simulation\n",
    "options:\n",
    "  minimize: yes\n",
    "  verbose: yes\n",
    "  default_number_of_iterations: 500\n",
    "  temperature: 300*kelvin\n",
    "  pressure: 1*atmospheres\n",
    "  output_dir: output # Does not have to be set, but we do here to show the different outputs\n",
    "\n",
    "# Configure the specific molecules we will use for our systems\n",
    "molecules:\n",
    "  # Define our Host, cucurbit[7]uril, we can call it whatever we want so we just use its name here as the directive\n",
    "  CB7:\n",
    "    filepath: input/host.tripos.mol2\n",
    "    antechamber: # Specify that missing parameters not in GAFF are acquired through ANTECHAMBER first\n",
    "      charge_method: null # We pre-computed host charges to save time at YANK run, so set this to null to specify no charge computation method\n",
    "  # Define our ligand molecule, B2\n",
    "  B2:\n",
    "    filepath: input/guest.tripos.mol2\n",
    "    # Get the partial charges for the ligand by generating them from antechamber with the AM1-BCC charge method\n",
    "    antechamber:\n",
    "      charge_method: bcc\n",
    "\n",
    "# Define the solvent for our system, here we use GBSA Implicit Solvent and Particle Mesh Ewald electrostatics treatment for Explicit Sovlent\n",
    "solvents:\n",
    "  # We can title this solvent whatever we want. We just call it \"GBSA\" for easy remembering\n",
    "  GBSA:\n",
    "    nonbonded_method: NoCutoff # Main definition of the nonbonded method\n",
    "    implicit_solvent: OBC2 # Onufriev-Bashford-Case GBSA model, name is related to Implicit solvents in OpenMM\n",
    "  # Similarly, we can title this solvent whatever we want. We call it \"pme\" for ease and to be unique from the gbsa entry\n",
    "  pme:\n",
    "    nonbonded_method: PME\n",
    "    # Specifies the distance btween \"long range\" and \"short range\" forces for PME\n",
    "    nonbonded_cutoff: 12*angstroms\n",
    "    # Specify the distance at which the short range forces are smoothly brought to 0 so there is no discontinuity in the force\n",
    "    # By default, this is nonbonded_cutoff minus 1 (one) angstrom\n",
    "    switch_distance: 11*angstroms\n",
    "    ewald_error_tolerance: 1.0e-4\n",
    "    # Specify a volume as a radius away the edge of the molecules molecules (CB7 and B2) \n",
    "    # this volume will be packed with water, leaving a small cavity for the non-water molecules\n",
    "    # You should alway minimize if you have this option\n",
    "    clearance: 12*angstroms\n",
    "    # Add thise itons if we need to neutralize the system.\n",
    "    positive_ion: Na+\n",
    "    negative_ion: Cl-\n",
    "\n",
    "# Define the systems: What is the ligand, receptor, and solvent we put them in\n",
    "systems:\n",
    "  # System names are abitrary\n",
    "  implicit:\n",
    "    # These entries point at the previously defined molecules and solvents\n",
    "    receptor: CB7\n",
    "    ligand: B2\n",
    "    solvent: GBSA\n",
    "    leap:\n",
    "      parameters: leaprc.gaff2\n",
    "\n",
    "  explicit:\n",
    "    receptor: CB7\n",
    "    ligand: B2\n",
    "    solvent: pme\n",
    "    leap:\n",
    "      parameters: [leaprc.protein.ff14SB, leaprc.gaff, leaprc.water.tip4pew]\n",
    "\n",
    "  # Call the protocol whatever you would like, here we name it based on the type of calculation we are running\n",
    "  absolute-binding:\n",
    "    complex:\n",
    "      alchemical_path:\n",
    "        lambda_electrostatics: [1.00, 0.95, 0.90, 0.80, 0.70, 0.60, 0.50, 0.40, 0.30, 0.20, 0.10, 0.00, 0.00, 0.00, 0.00, 0.00, 0.00, 0.00, 0.00, 0.00, 0.00, 0.00, 0.00, 0.00]\n",
    "        lambda_sterics:        [1.00, 1.00, 1.00, 1.00, 1.00, 1.00, 1.00, 1.00, 1.00, 1.00, 1.00, 1.00, 0.90, 0.80, 0.70, 0.60, 0.50, 0.40, 0.30, 0.20, 0.15, 0.10, 0.05, 0.00]\n",
    "    solvent:\n",
    "      alchemical_path:\n",
    "        lambda_electrostatics: [1.00, 0.95, 0.90, 0.80, 0.70, 0.60, 0.50, 0.40, 0.30, 0.20, 0.10, 0.00, 0.00, 0.00, 0.00, 0.00, 0.00, 0.00, 0.00, 0.00, 0.00, 0.00, 0.00, 0.00]\n",
    "        lambda_sterics:        [1.00, 1.00, 1.00, 1.00, 1.00, 1.00, 1.00, 1.00, 1.00, 1.00, 1.00, 1.00, 0.90, 0.80, 0.70, 0.60, 0.50, 0.40, 0.30, 0.20, 0.15, 0.10, 0.05, 0.00]\n",
    "\n",
    "# Here we combine the system and the protocol to make an expirement\n",
    "experiments:\n",
    "  system: !Combinatorial [implicit, explicit]\n",
    "  protocol: absolute-binding\n",
    "  restraint:\n",
    "    # Note that there is no lambda_electrostatics set in the protocol above, that is because we want the guest to always stay near the host.\n",
    "    type: Harmonic\n",
    "'''\n"
   ]
  },
  {
   "cell_type": "code",
   "execution_count": 7,
   "metadata": {},
   "outputs": [
    {
     "name": "stderr",
     "output_type": "stream",
     "text": [
      "2018-05-28 16:26:17,967: Setting CUDA platform to use precision model 'mixed'.\n",
      "2018-05-28 16:26:18,128: ERROR - yank.experiment - System 'absolute-binding' did not validate! Check the schema error below for details\n",
      "complex: [unknown field]\n",
      "solvent: [must be of string type]\n",
      "\n"
     ]
    },
    {
     "ename": "YamlParseError",
     "evalue": "System 'absolute-binding' did not validate! Check the schema error below for details\ncomplex: [unknown field]\nsolvent: [must be of string type]\n",
     "output_type": "error",
     "traceback": [
      "\u001b[0;31m---------------------------------------------------------------------------\u001b[0m",
      "\u001b[0;31mYamlParseError\u001b[0m                            Traceback (most recent call last)",
      "\u001b[0;32m<ipython-input-7-86b41130737b>\u001b[0m in \u001b[0;36m<module>\u001b[0;34m()\u001b[0m\n\u001b[0;32m----> 1\u001b[0;31m \u001b[0myaml_builder\u001b[0m \u001b[0;34m=\u001b[0m \u001b[0myank\u001b[0m\u001b[0;34m.\u001b[0m\u001b[0mexperiment\u001b[0m\u001b[0;34m.\u001b[0m\u001b[0mExperimentBuilder\u001b[0m\u001b[0;34m(\u001b[0m\u001b[0mscript\u001b[0m\u001b[0;34m=\u001b[0m\u001b[0mtextwrap\u001b[0m\u001b[0;34m.\u001b[0m\u001b[0mdedent\u001b[0m\u001b[0;34m(\u001b[0m\u001b[0myaml_content\u001b[0m\u001b[0;34m)\u001b[0m\u001b[0;34m)\u001b[0m\u001b[0;34m\u001b[0m\u001b[0m\n\u001b[0m",
      "\u001b[0;32m/opt/apps/conda/intel-2018.1.163_miniconda/envs/remd/lib/python3.6/site-packages/yank/experiment.py\u001b[0m in \u001b[0;36m__init__\u001b[0;34m(self, script, job_id, n_jobs)\u001b[0m\n\u001b[1;32m    634\u001b[0m         \u001b[0;31m# Parse YAML script\u001b[0m\u001b[0;34m\u001b[0m\u001b[0;34m\u001b[0m\u001b[0m\n\u001b[1;32m    635\u001b[0m         \u001b[0;32mif\u001b[0m \u001b[0mscript\u001b[0m \u001b[0;32mis\u001b[0m \u001b[0;32mnot\u001b[0m \u001b[0;32mNone\u001b[0m\u001b[0;34m:\u001b[0m\u001b[0;34m\u001b[0m\u001b[0m\n\u001b[0;32m--> 636\u001b[0;31m             \u001b[0mself\u001b[0m\u001b[0;34m.\u001b[0m\u001b[0mparse\u001b[0m\u001b[0;34m(\u001b[0m\u001b[0mscript\u001b[0m\u001b[0;34m)\u001b[0m\u001b[0;34m\u001b[0m\u001b[0m\n\u001b[0m\u001b[1;32m    637\u001b[0m \u001b[0;34m\u001b[0m\u001b[0m\n\u001b[1;32m    638\u001b[0m     \u001b[0;32mdef\u001b[0m \u001b[0mupdate_yaml\u001b[0m\u001b[0;34m(\u001b[0m\u001b[0mself\u001b[0m\u001b[0;34m,\u001b[0m \u001b[0mscript\u001b[0m\u001b[0;34m)\u001b[0m\u001b[0;34m:\u001b[0m\u001b[0;34m\u001b[0m\u001b[0m\n",
      "\u001b[0;32m/opt/apps/conda/intel-2018.1.163_miniconda/envs/remd/lib/python3.6/site-packages/yank/experiment.py\u001b[0m in \u001b[0;36mparse\u001b[0;34m(self, script)\u001b[0m\n\u001b[1;32m    747\u001b[0m         \u001b[0mself\u001b[0m\u001b[0;34m.\u001b[0m\u001b[0m_db\u001b[0m\u001b[0;34m.\u001b[0m\u001b[0mmolecules\u001b[0m \u001b[0;34m=\u001b[0m \u001b[0mself\u001b[0m\u001b[0;34m.\u001b[0m\u001b[0m_validate_molecules\u001b[0m\u001b[0;34m(\u001b[0m\u001b[0myaml_content\u001b[0m\u001b[0;34m.\u001b[0m\u001b[0mget\u001b[0m\u001b[0;34m(\u001b[0m\u001b[0;34m'molecules'\u001b[0m\u001b[0;34m,\u001b[0m \u001b[0;34m{\u001b[0m\u001b[0;34m}\u001b[0m\u001b[0;34m)\u001b[0m\u001b[0;34m)\u001b[0m\u001b[0;34m\u001b[0m\u001b[0m\n\u001b[1;32m    748\u001b[0m         \u001b[0mself\u001b[0m\u001b[0;34m.\u001b[0m\u001b[0m_db\u001b[0m\u001b[0;34m.\u001b[0m\u001b[0msolvents\u001b[0m \u001b[0;34m=\u001b[0m \u001b[0mself\u001b[0m\u001b[0;34m.\u001b[0m\u001b[0m_validate_solvents\u001b[0m\u001b[0;34m(\u001b[0m\u001b[0myaml_content\u001b[0m\u001b[0;34m.\u001b[0m\u001b[0mget\u001b[0m\u001b[0;34m(\u001b[0m\u001b[0;34m'solvents'\u001b[0m\u001b[0;34m,\u001b[0m \u001b[0;34m{\u001b[0m\u001b[0;34m}\u001b[0m\u001b[0;34m)\u001b[0m\u001b[0;34m)\u001b[0m\u001b[0;34m\u001b[0m\u001b[0m\n\u001b[0;32m--> 749\u001b[0;31m         \u001b[0mself\u001b[0m\u001b[0;34m.\u001b[0m\u001b[0m_db\u001b[0m\u001b[0;34m.\u001b[0m\u001b[0msystems\u001b[0m \u001b[0;34m=\u001b[0m \u001b[0mself\u001b[0m\u001b[0;34m.\u001b[0m\u001b[0m_validate_systems\u001b[0m\u001b[0;34m(\u001b[0m\u001b[0myaml_content\u001b[0m\u001b[0;34m.\u001b[0m\u001b[0mget\u001b[0m\u001b[0;34m(\u001b[0m\u001b[0;34m'systems'\u001b[0m\u001b[0;34m,\u001b[0m \u001b[0;34m{\u001b[0m\u001b[0;34m}\u001b[0m\u001b[0;34m)\u001b[0m\u001b[0;34m)\u001b[0m\u001b[0;34m\u001b[0m\u001b[0m\n\u001b[0m\u001b[1;32m    750\u001b[0m \u001b[0;34m\u001b[0m\u001b[0m\n\u001b[1;32m    751\u001b[0m         \u001b[0;31m# Validate protocols\u001b[0m\u001b[0;34m\u001b[0m\u001b[0;34m\u001b[0m\u001b[0m\n",
      "\u001b[0;32m/opt/apps/conda/intel-2018.1.163_miniconda/envs/remd/lib/python3.6/site-packages/yank/experiment.py\u001b[0m in \u001b[0;36m_validate_systems\u001b[0;34m(self, systems_description)\u001b[0m\n\u001b[1;32m   1898\u001b[0m             \u001b[0;32melse\u001b[0m\u001b[0;34m:\u001b[0m\u001b[0;34m\u001b[0m\u001b[0m\n\u001b[1;32m   1899\u001b[0m                 \u001b[0merror\u001b[0m \u001b[0;34m=\u001b[0m \u001b[0;34m\"System '{}' did not validate! Check the schema error below for details\\n{}\"\u001b[0m\u001b[0;34m\u001b[0m\u001b[0m\n\u001b[0;32m-> 1900\u001b[0;31m                 \u001b[0;32mraise\u001b[0m \u001b[0mYamlParseError\u001b[0m\u001b[0;34m(\u001b[0m\u001b[0merror\u001b[0m\u001b[0;34m.\u001b[0m\u001b[0mformat\u001b[0m\u001b[0;34m(\u001b[0m\u001b[0msystem_id\u001b[0m\u001b[0;34m,\u001b[0m \u001b[0myaml\u001b[0m\u001b[0;34m.\u001b[0m\u001b[0mdump\u001b[0m\u001b[0;34m(\u001b[0m\u001b[0msystem_validator\u001b[0m\u001b[0;34m.\u001b[0m\u001b[0merrors\u001b[0m\u001b[0;34m)\u001b[0m\u001b[0;34m)\u001b[0m\u001b[0;34m)\u001b[0m\u001b[0;34m\u001b[0m\u001b[0m\n\u001b[0m\u001b[1;32m   1901\u001b[0m         \u001b[0;32mreturn\u001b[0m \u001b[0mvalidated_systems\u001b[0m\u001b[0;34m\u001b[0m\u001b[0m\n\u001b[1;32m   1902\u001b[0m \u001b[0;34m\u001b[0m\u001b[0m\n",
      "\u001b[0;31mYamlParseError\u001b[0m: System 'absolute-binding' did not validate! Check the schema error below for details\ncomplex: [unknown field]\nsolvent: [must be of string type]\n"
     ]
    }
   ],
   "source": [
    "yaml_builder = yank.experiment.ExperimentBuilder(script=textwrap.dedent(yaml_content))"
   ]
  },
  {
   "cell_type": "code",
   "execution_count": null,
   "metadata": {},
   "outputs": [],
   "source": [
    "# yaml_builder.run_experiments()"
   ]
  },
  {
   "cell_type": "markdown",
   "metadata": {},
   "source": [
    "# Setting up the system"
   ]
  },
  {
   "cell_type": "code",
   "execution_count": 2,
   "metadata": {},
   "outputs": [],
   "source": [
    "working_system = TestSystems.CB7B2Implicit()\n",
    "positions = working_system.positions"
   ]
  },
  {
   "cell_type": "code",
   "execution_count": 3,
   "metadata": {},
   "outputs": [
    {
     "data": {
      "application/vnd.jupyter.widget-view+json": {
       "model_id": "f977c3f72d244122964ed27580aa8b62",
       "version_major": 2,
       "version_minor": 0
      },
      "text/plain": [
       "NGLWidget()"
      ]
     },
     "metadata": {},
     "output_type": "display_data"
    }
   ],
   "source": [
    "working_system.make_nglview()"
   ]
  },
  {
   "cell_type": "markdown",
   "metadata": {},
   "source": []
  },
  {
   "cell_type": "code",
   "execution_count": 5,
   "metadata": {},
   "outputs": [],
   "source": []
  },
  {
   "cell_type": "code",
   "execution_count": null,
   "metadata": {},
   "outputs": [],
   "source": []
  }
 ],
 "metadata": {
  "anaconda-cloud": {},
  "kernelspec": {
   "display_name": "Python [conda env:remd]",
   "language": "python",
   "name": "conda-env-remd-py"
  },
  "language_info": {
   "codemirror_mode": {
    "name": "ipython",
    "version": 3
   },
   "file_extension": ".py",
   "mimetype": "text/x-python",
   "name": "python",
   "nbconvert_exporter": "python",
   "pygments_lexer": "ipython3",
   "version": "3.6.5"
  }
 },
 "nbformat": 4,
 "nbformat_minor": 2
}
