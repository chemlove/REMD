{
 "cells": [
  {
   "cell_type": "code",
   "execution_count": 1,
   "metadata": {},
   "outputs": [],
   "source": [
    "import os\n",
    "import numpy as np\n",
    "import sympy as sy\n",
    "import math\n",
    "\n",
    "import matplotlib.pyplot as plt\n",
    "\n",
    "import simtk.openmm as mm\n",
    "import simtk.unit as unit\n",
    "import simtk.openmm.app as app\n",
    "\n",
    "import openmmtools as mmtools\n",
    "from openmmtools import testsystems\n",
    "\n",
    "import yank.repex as repex\n",
    "import yank.analyze as analyze\n",
    "\n",
    "import tempfile\n",
    "\n",
    "plt.style.use(\"ggplot\")"
   ]
  },
  {
   "cell_type": "markdown",
   "metadata": {},
   "source": [
    "---------------"
   ]
  },
  {
   "cell_type": "markdown",
   "metadata": {},
   "source": [
    "# System Definition (3D Double Well Potential)"
   ]
  },
  {
   "cell_type": "code",
   "execution_count": 2,
   "metadata": {},
   "outputs": [
    {
     "data": {
      "text/plain": [
       "0"
      ]
     },
     "execution_count": 2,
     "metadata": {},
     "output_type": "execute_result"
    }
   ],
   "source": [
    "# One particle in 3D\n",
    "system = mm.System()\n",
    "mass = 1.0 * unit.amu \n",
    "system.addParticle(mass)"
   ]
  },
  {
   "cell_type": "markdown",
   "metadata": {},
   "source": [
    "### Y and Z dimensions: Harmonic Well"
   ]
  },
  {
   "cell_type": "code",
   "execution_count": 3,
   "metadata": {},
   "outputs": [
    {
     "data": {
      "image/png": "[encoded data removed]",
      "text/plain": [
       "<Figure size 432x288 with 1 Axes>"
      ]
     },
     "metadata": {},
     "output_type": "display_data"
    }
   ],
   "source": [
    "# '0.5*K*x**2'\n",
    "\n",
    "def harmonic_well(x,K):\n",
    "    return 0.5*K*x**2\n",
    "\n",
    "K=100.0\n",
    "\n",
    "x_serie = np.arange(-5., 5., 0.05)\n",
    "\n",
    "plt.plot(x_serie, harmonic_well(x_serie,K), 'r-')\n",
    "plt.ylim(-10,10)\n",
    "plt.xlim(-4,4)\n",
    "plt.show()"
   ]
  },
  {
   "cell_type": "code",
   "execution_count": 4,
   "metadata": {},
   "outputs": [],
   "source": [
    "x = sy.symbols('x')\n",
    "g=sy.diff(0.5*K*x**2,x)\n",
    "gg=sy.diff(0.5*K*x**2,x,x)\n",
    "roots_diff=sy.roots(g,x)\n",
    "roots_yz=list(roots_diff.keys())"
   ]
  },
  {
   "cell_type": "code",
   "execution_count": 5,
   "metadata": {},
   "outputs": [
    {
     "name": "stdout",
     "output_type": "stream",
     "text": [
      "Oscillation periods T in minima:\n",
      "0.6283185307179586\n"
     ]
    }
   ],
   "source": [
    "# Period:\n",
    "print(\"Oscillation periods T in minima:\")\n",
    "for root in roots_diff.keys():\n",
    "    freq=gg.subs(x,root)\n",
    "    if freq>0:\n",
    "        print(2*np.pi*np.sqrt(mass._value/float(freq)))"
   ]
  },
  {
   "cell_type": "markdown",
   "metadata": {},
   "source": [
    "### X dimension: Double Well"
   ]
  },
  {
   "cell_type": "code",
   "execution_count": 6,
   "metadata": {},
   "outputs": [
    {
     "data": {
      "image/png": "[encoded data removed]",
      "text/plain": [
       "<Figure size 432x288 with 1 Axes>"
      ]
     },
     "metadata": {},
     "output_type": "display_data"
    }
   ],
   "source": [
    "# 'Eo(C*x**4-x**2)+M*x'\n",
    "\n",
    "def double_well(x,Eo,C,M):\n",
    "    return Eo*(C*x**4-x**2)+M*x\n",
    "\n",
    "Eo=7.0\n",
    "C=0.4\n",
    "M=-0.5\n",
    "\n",
    "x_serie = np.arange(-5., 5., 0.05)\n",
    "\n",
    "plt.plot(x_serie, double_well(x_serie,Eo,C,M), 'r-')\n",
    "plt.ylim(-10,10)\n",
    "plt.xlim(-4,4)\n",
    "plt.show()"
   ]
  },
  {
   "cell_type": "code",
   "execution_count": 7,
   "metadata": {},
   "outputs": [],
   "source": [
    "x = sy.symbols('x')\n",
    "g=sy.diff(Eo*(C*x**4-x**2)+M*x,x)\n",
    "gg=sy.diff(Eo*(C*x**4-x**2)+M*x,x,x)\n",
    "roots_diff=sy.roots(g,x)\n",
    "roots_x=list(roots_diff.keys())"
   ]
  },
  {
   "cell_type": "code",
   "execution_count": 8,
   "metadata": {},
   "outputs": [
    {
     "name": "stdout",
     "output_type": "stream",
     "text": [
      "Oscillation periods T in minima:\n",
      "5.161010422764949\n",
      "5.414889333675711\n"
     ]
    }
   ],
   "source": [
    "# Period:\n",
    "print(\"Oscillation periods T in minima:\")\n",
    "for root in list(roots_diff.keys()):\n",
    "    freq=gg.subs(x,root)\n",
    "    try:\n",
    "        if freq>0:\n",
    "            print(np.sqrt(float(freq)/mass._value))\n",
    "    except:\n",
    "        print(\"Not real frequency found\")\n",
    "        \n",
    "## Tengo que calcular aqui las dos barreras"
   ]
  },
  {
   "cell_type": "markdown",
   "metadata": {},
   "source": [
    "## Adding potential to the system"
   ]
  },
  {
   "cell_type": "code",
   "execution_count": 9,
   "metadata": {},
   "outputs": [
    {
     "data": {
      "text/plain": [
       "0"
      ]
     },
     "execution_count": 9,
     "metadata": {},
     "output_type": "execute_result"
    }
   ],
   "source": [
    "K  = K  * unit.kilocalories_per_mole/unit.angstrom**2\n",
    "Eo = Eo * unit.kilocalories_per_mole/unit.angstrom**2\n",
    "C  = C  * 1/unit.angstrom**2\n",
    "M  = M  * unit.kilocalories_per_mole/unit.angstrom\n",
    "\n",
    "force = mm.CustomExternalForce('Eo*(C*x^4-x^2)+M*x + (K/2.0)*(y^2+z^2)')\n",
    "force.addGlobalParameter('K', K)\n",
    "force.addGlobalParameter('Eo', Eo)\n",
    "force.addGlobalParameter('C', C)\n",
    "force.addGlobalParameter('M', M)\n",
    "force.addParticle(0, [])\n",
    "system.addForce(force)"
   ]
  },
  {
   "cell_type": "markdown",
   "metadata": {},
   "source": [
    "## Initial Conditions"
   ]
  },
  {
   "cell_type": "code",
   "execution_count": 10,
   "metadata": {},
   "outputs": [],
   "source": [
    "position_minimum=np.array([[roots_x[0],roots_yz[0],roots_yz[0]]],dtype=float)\n",
    "initial_positions = unit.Quantity(position_minimum, unit.angstroms)\n",
    "system.positions = initial_positions\n",
    "# velocities?? should be randomly generated according to the maxwell-boltzmann distribution "
   ]
  },
  {
   "cell_type": "markdown",
   "metadata": {},
   "source": [
    "----------------"
   ]
  },
  {
   "cell_type": "markdown",
   "metadata": {},
   "source": [
    "# Simulation Options"
   ]
  },
  {
   "cell_type": "code",
   "execution_count": 11,
   "metadata": {},
   "outputs": [],
   "source": [
    "platform_name='CPU'  #platform:     A platform (CPU, OpenCL, CUDA, or reference); default is platform=OpenCL\"\n",
    "# for ii in range(mm.Platform.getNumPlatforms()):\n",
    "#     print(mm.Platform.getPlatform(ii).getName())\n",
    "platform = mm.Platform.getPlatformByName(platform_name)\n",
    "\n",
    "\n",
    "#kB = unit.BOLTZMANN_CONSTANT_kB * unit.AVOGADRO_CONSTANT_NA"
   ]
  },
  {
   "cell_type": "markdown",
   "metadata": {},
   "source": [
    "# Parallel Tempering Parameters"
   ]
  },
  {
   "cell_type": "code",
   "execution_count": 12,
   "metadata": {},
   "outputs": [
    {
     "name": "stdout",
     "output_type": "stream",
     "text": [
      "[Quantity(value=300.0, unit=kelvin), Quantity(value=326.81137500583793, unit=kelvin), Quantity(value=357.7400386775781, unit=kelvin), Quantity(value=393.41826242818166, unit=kelvin), Quantity(value=434.5754124269132, unit=kelvin), Quantity(value=482.052859955097, unit=kelvin), Quantity(value=536.8211814705792, unit=kelvin), Quantity(value=600.0, unit=kelvin)]\n"
     ]
    }
   ],
   "source": [
    "n_replicas = 8\n",
    "T_min      = 300.0*unit.kelvin\n",
    "T_max      = 600.0*unit.kelvin\n",
    "\n",
    "temperatures = [T_min + (T_max - T_min) * (math.exp(float(i) / float(n_replicas-1)) - 1.0) / (math.e - 1.0) \n",
    "                for i in range(n_replicas)]\n",
    "\n",
    "print(temperatures)"
   ]
  },
  {
   "cell_type": "markdown",
   "metadata": {},
   "source": [
    "# Thermodynamic States Definition"
   ]
  },
  {
   "cell_type": "code",
   "execution_count": 13,
   "metadata": {},
   "outputs": [],
   "source": [
    "thermodynamic_states = [mmtools.states.ThermodynamicState(system=system, temperature=T) for T in temperatures]"
   ]
  },
  {
   "cell_type": "markdown",
   "metadata": {},
   "source": [
    "# REPEX Options"
   ]
  },
  {
   "cell_type": "code",
   "execution_count": 14,
   "metadata": {},
   "outputs": [],
   "source": [
    "move = repex.mmtools.mcmc.GHMCMove(timestep=2.0*unit.femtoseconds, n_steps=50)\n",
    "simulation = repex.ReplicaExchange(mcmc_moves=move, number_of_iterations=1000)"
   ]
  },
  {
   "cell_type": "markdown",
   "metadata": {},
   "source": [
    "# Reporter"
   ]
  },
  {
   "cell_type": "code",
   "execution_count": 17,
   "metadata": {},
   "outputs": [],
   "source": [
    "#storage_path = tempfile.NamedTemporaryFile(delete=False).name+'.nc'\n",
    "#print(storage_path)\n",
    "storage_path = '/home/diego/Projects/REMD/REMD_T/prueba.nc'\n",
    "os.remove(storage_path)\n",
    "reporter = repex.Reporter(storage_path, checkpoint_interval=1)"
   ]
  },
  {
   "cell_type": "markdown",
   "metadata": {},
   "source": [
    "# Running REPEX Simulation"
   ]
  },
  {
   "cell_type": "code",
   "execution_count": 18,
   "metadata": {},
   "outputs": [],
   "source": [
    "simulation._have_displayed_citations_before=True\n",
    "simulation.create(thermodynamic_states=thermodynamic_states,\n",
    "                  sampler_states=mmtools.states.SamplerState(system.positions),\n",
    "                  storage=reporter)"
   ]
  },
  {
   "cell_type": "code",
   "execution_count": 19,
   "metadata": {},
   "outputs": [],
   "source": [
    "simulation.run()"
   ]
  },
  {
   "cell_type": "code",
   "execution_count": 20,
   "metadata": {},
   "outputs": [
    {
     "name": "stdout",
     "output_type": "stream",
     "text": [
      "1000\n"
     ]
    }
   ],
   "source": [
    "print(simulation.iteration)"
   ]
  },
  {
   "cell_type": "code",
   "execution_count": 23,
   "metadata": {},
   "outputs": [
    {
     "name": "stdout",
     "output_type": "stream",
     "text": [
      "80000000\n"
     ]
    }
   ],
   "source": [
    "total_number_iterations_run=200*50*n_replicas*1000\n",
    "print(total_number_iterations_run)"
   ]
  },
  {
   "cell_type": "code",
   "execution_count": 22,
   "metadata": {},
   "outputs": [
    {
     "name": "stdout",
     "output_type": "stream",
     "text": [
      "True\n"
     ]
    }
   ],
   "source": [
    "#print(reporter.is_open())\n",
    "reporter.close()\n",
    "del reporter"
   ]
  }
 ],
 "metadata": {
  "anaconda-cloud": {},
  "kernelspec": {
   "display_name": "Python 3",
   "language": "python",
   "name": "python3"
  },
  "language_info": {
   "codemirror_mode": {
    "name": "ipython",
    "version": 3
   },
   "file_extension": ".py",
   "mimetype": "text/x-python",
   "name": "python",
   "nbconvert_exporter": "python",
   "pygments_lexer": "ipython3",
   "version": "3.6.4"
  }
 },
 "nbformat": 4,
 "nbformat_minor": 2
}
