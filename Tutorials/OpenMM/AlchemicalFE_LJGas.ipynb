{
 "cells": [
  {
   "cell_type": "markdown",
   "metadata": {},
   "source": [
    "# Alchemical Free Energy\n",
    "\n",
    "From: http://journals.plos.org/ploscompbiol/article/file?id=info%3Adoi/10.1371/journal.pcbi.1005659.s003&type=supplementary\n",
    "\n",
    "OpenMM's custom forces—which allow the programmer to express a potential algebraically, potentially with multiple parameters that can be adjusted on the fly—allow a great deal of flexibility and simplicity in encoding potentials while still achieving high performance on GPUs. One common use of this facility is to convert standard interactions (such as Lennard-Jones potentials) into alchemically-modified potentials for the purposes of computing free energy differences. The alchemical free energy code YANK, for example, uses a variety of custom forces to represent alchemically-modified potentials for protein-ligand alchemical binding free energy calculations.\n",
    "\n",
    "As a simple example of how this is facilitated by custom forces, consider computing the chemical potential of liquid argon by estimating the free energy of alchemically annihilating a Lennard-Jones particle. First, we create a simple Lennard-Jones fluid to represent liquid argon at 120 K and 80 atm, which can be conveniently done using the testsystems module of the conda-installable openmmtools package:"
   ]
  },
  {
   "cell_type": "code",
   "execution_count": 1,
   "metadata": {},
   "outputs": [
    {
     "data": {
      "text/plain": [
       "1"
      ]
     },
     "execution_count": 1,
     "metadata": {},
     "output_type": "execute_result"
    }
   ],
   "source": [
    "from simtk import openmm, unit\n",
    "from openmmtools.testsystems import LennardJonesFluid\n",
    "from tqdm import tqdm, tqdm_notebook\n",
    "\n",
    "# Create a Lennard-Jones fluid\n",
    "pressure = 80*unit.atmospheres\n",
    "temperature = 120*unit.kelvin\n",
    "collision_rate = 5/unit.picoseconds\n",
    "timestep = 2.5*unit.femtoseconds\n",
    "\n",
    "sigma = 3.4*unit.angstrom; epsilon = 0.238 * unit.kilocalories_per_mole\n",
    "fluid = LennardJonesFluid(sigma=sigma, epsilon=epsilon)\n",
    "[system, positions] = [fluid.system, fluid.positions]\n",
    "\n",
    "# Add a barostat\n",
    "barostat = openmm.MonteCarloBarostat(pressure, temperature)\n",
    "system.addForce(barostat)"
   ]
  },
  {
   "cell_type": "markdown",
   "metadata": {},
   "source": [
    "To allow one of the Lennard-Jones particles to be alchemically eliminated, we create a CustomNonbondedForce that will compute the interactions between the alchemical particle and the remaining chemical particles using a softcore potential. The alchemically-modified particle has its Lennard-Jones well depth (epsilon parameter) set to zero in the original NonbondedForce, while the CustomNonbondedForce is set to evaluate only the interactions between the alchemically-modified particle and the remaining particles using addInteractionGroup() to specify only interactions between these groups are to be computed. A global context parameter lambda is created to control the coupling of the alchemically-modified particle with the rest of the system during the simulation. The Lennard-Jones parameters sigma and epsilon are implemented as per-particle parameters, though this is not strictly necessary in this case since all particles are equivalent."
   ]
  },
  {
   "cell_type": "code",
   "execution_count": 2,
   "metadata": {},
   "outputs": [
    {
     "data": {
      "text/plain": [
       "2"
      ]
     },
     "execution_count": 2,
     "metadata": {},
     "output_type": "execute_result"
    }
   ],
   "source": [
    "# Retrieve the NonbondedForce\n",
    "forces = { force.__class__.__name__ : force for force in system.getForces() }\n",
    "nbforce = forces['NonbondedForce']\n",
    "\n",
    "# Add a CustomNonbondedForce to handle only alchemically-modified interactions\n",
    "alchemical_particles = set([0])\n",
    "chemical_particles = set(range(system.getNumParticles())) - alchemical_particles\n",
    "energy_function = 'lambda*4*epsilon*x*(x-1.0); x = (sigma/reff_sterics)^6;'\n",
    "energy_function += 'reff_sterics = sigma*(0.5*(1.0-lambda) + (r/sigma)^6)^(1/6);'\n",
    "energy_function += 'sigma = 0.5*(sigma1+sigma2); epsilon = sqrt(epsilon1*epsilon2);'\n",
    "custom_force = openmm.CustomNonbondedForce(energy_function)\n",
    "custom_force.addGlobalParameter('lambda', 1.0)\n",
    "custom_force.addPerParticleParameter('sigma')\n",
    "custom_force.addPerParticleParameter('epsilon')\n",
    "for index in range(system.getNumParticles()):\n",
    "    [charge, sigma, epsilon] = nbforce.getParticleParameters(index)\n",
    "    custom_force.addParticle([sigma, epsilon])\n",
    "    if index in alchemical_particles:\n",
    "        nbforce.setParticleParameters(index, charge*0, sigma, epsilon*0)\n",
    "custom_force.addInteractionGroup(alchemical_particles, chemical_particles)\n",
    "system.addForce(custom_force)"
   ]
  },
  {
   "cell_type": "markdown",
   "metadata": {},
   "source": [
    "We then create a LangevinIntegrator and Context to run the simulation, and run a series of simulations at different values of lambda by using context.setParameter() to update the alchemical parameter on the fly. For each configuration sample that is collected, we can easily scan through the energy at different lambda values by simply alternating between context.setParameter() to update lambda and context.getState() to retrieve potential energies at the new alchemical state.\n"
   ]
  },
  {
   "cell_type": "code",
   "execution_count": 3,
   "metadata": {},
   "outputs": [
    {
     "name": "stderr",
     "output_type": "stream",
     "text": [
      "  0%|          | 0/10 [00:00<?, ?it/s]"
     ]
    },
    {
     "name": "stdout",
     "output_type": "stream",
     "text": [
      "Minimizing energy...\n"
     ]
    },
    {
     "name": "stderr",
     "output_type": "stream",
     "text": [
      "100%|██████████| 10/10 [07:11<00:00, 43.19s/it]\n"
     ]
    }
   ],
   "source": [
    "# Create a context\n",
    "integrator = openmm.LangevinIntegrator(temperature, collision_rate, timestep)\n",
    "context = openmm.Context(system, integrator)\n",
    "context.setPositions(positions)\n",
    "\n",
    "# Minimize energy\n",
    "#print('Minimizing energy...')\n",
    "openmm.LocalEnergyMinimizer.minimize(context)\n",
    "\n",
    "# Collect data\n",
    "nsteps = 2500 # number of steps per sample\n",
    "niterations = 50 # number of samples to collect per alchemical state\n",
    "import numpy as np\n",
    "lambdas = np.linspace(1.0, 0.0, 10) # alchemical lambda schedule\n",
    "nstates = len(lambdas)\n",
    "u_kln = np.zeros([nstates,nstates,niterations], np.float64)\n",
    "kT = unit.AVOGADRO_CONSTANT_NA * unit.BOLTZMANN_CONSTANT_kB * integrator.getTemperature()\n",
    "for k in tqdm(range(nstates)):\n",
    "    for iteration in range(niterations):\n",
    "        #print('state %5d iteration %5d / %5d' % (k, iteration, niterations))\n",
    "        # Set alchemical state\n",
    "        context.setParameter('lambda', lambdas[k])\n",
    "        # Run some dynamics\n",
    "        integrator.step(nsteps)\n",
    "        # Compute energies at all alchemical states\n",
    "        for l in range(nstates):\n",
    "            context.setParameter('lambda', lambdas[l])\n",
    "            u_kln[k,l,iteration] = context.getState(getEnergy=True).getPotentialEnergy() / kT"
   ]
  },
  {
   "cell_type": "code",
   "execution_count": null,
   "metadata": {},
   "outputs": [],
   "source": []
  }
 ],
 "metadata": {
  "kernelspec": {
   "display_name": "Python 3",
   "language": "python",
   "name": "python3"
  },
  "language_info": {
   "codemirror_mode": {
    "name": "ipython",
    "version": 3
   },
   "file_extension": ".py",
   "mimetype": "text/x-python",
   "name": "python",
   "nbconvert_exporter": "python",
   "pygments_lexer": "ipython3",
   "version": "3.6.4"
  }
 },
 "nbformat": 4,
 "nbformat_minor": 2
}
